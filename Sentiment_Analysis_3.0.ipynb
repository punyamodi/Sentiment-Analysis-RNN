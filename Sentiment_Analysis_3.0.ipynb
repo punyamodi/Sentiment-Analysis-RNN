{
  "cells": [
    {
      "cell_type": "markdown",
      "metadata": {
        "id": "tGHKB9jmmja7"
      },
      "source": [
        "### **Theory Behind RNNS DATA ANALYSIS**"
      ]
    },
    {
      "cell_type": "code",
      "execution_count": null,
      "metadata": {
        "id": "vR6C9i-fyLvG"
      },
      "outputs": [],
      "source": [
        "import pandas as pd\n",
        "import numpy as np"
      ]
    },
    {
      "cell_type": "code",
      "execution_count": null,
      "metadata": {
        "colab": {
          "base_uri": "https://localhost:8080/",
          "height": 73
        },
        "id": "xRzvJNh1mRQW",
        "outputId": "e3c69b42-354c-47ef-8391-f4e4a8540aa6"
      },
      "outputs": [
        {
          "data": {
            "text/html": [
              "\n",
              "     <input type=\"file\" id=\"files-f7da813d-0775-40cb-aae1-698f00c1ec13\" name=\"files[]\" multiple disabled\n",
              "        style=\"border:none\" />\n",
              "     <output id=\"result-f7da813d-0775-40cb-aae1-698f00c1ec13\">\n",
              "      Upload widget is only available when the cell has been executed in the\n",
              "      current browser session. Please rerun this cell to enable.\n",
              "      </output>\n",
              "      <script>// Copyright 2017 Google LLC\n",
              "//\n",
              "// Licensed under the Apache License, Version 2.0 (the \"License\");\n",
              "// you may not use this file except in compliance with the License.\n",
              "// You may obtain a copy of the License at\n",
              "//\n",
              "//      http://www.apache.org/licenses/LICENSE-2.0\n",
              "//\n",
              "// Unless required by applicable law or agreed to in writing, software\n",
              "// distributed under the License is distributed on an \"AS IS\" BASIS,\n",
              "// WITHOUT WARRANTIES OR CONDITIONS OF ANY KIND, either express or implied.\n",
              "// See the License for the specific language governing permissions and\n",
              "// limitations under the License.\n",
              "\n",
              "/**\n",
              " * @fileoverview Helpers for google.colab Python module.\n",
              " */\n",
              "(function(scope) {\n",
              "function span(text, styleAttributes = {}) {\n",
              "  const element = document.createElement('span');\n",
              "  element.textContent = text;\n",
              "  for (const key of Object.keys(styleAttributes)) {\n",
              "    element.style[key] = styleAttributes[key];\n",
              "  }\n",
              "  return element;\n",
              "}\n",
              "\n",
              "// Max number of bytes which will be uploaded at a time.\n",
              "const MAX_PAYLOAD_SIZE = 100 * 1024;\n",
              "\n",
              "function _uploadFiles(inputId, outputId) {\n",
              "  const steps = uploadFilesStep(inputId, outputId);\n",
              "  const outputElement = document.getElementById(outputId);\n",
              "  // Cache steps on the outputElement to make it available for the next call\n",
              "  // to uploadFilesContinue from Python.\n",
              "  outputElement.steps = steps;\n",
              "\n",
              "  return _uploadFilesContinue(outputId);\n",
              "}\n",
              "\n",
              "// This is roughly an async generator (not supported in the browser yet),\n",
              "// where there are multiple asynchronous steps and the Python side is going\n",
              "// to poll for completion of each step.\n",
              "// This uses a Promise to block the python side on completion of each step,\n",
              "// then passes the result of the previous step as the input to the next step.\n",
              "function _uploadFilesContinue(outputId) {\n",
              "  const outputElement = document.getElementById(outputId);\n",
              "  const steps = outputElement.steps;\n",
              "\n",
              "  const next = steps.next(outputElement.lastPromiseValue);\n",
              "  return Promise.resolve(next.value.promise).then((value) => {\n",
              "    // Cache the last promise value to make it available to the next\n",
              "    // step of the generator.\n",
              "    outputElement.lastPromiseValue = value;\n",
              "    return next.value.response;\n",
              "  });\n",
              "}\n",
              "\n",
              "/**\n",
              " * Generator function which is called between each async step of the upload\n",
              " * process.\n",
              " * @param {string} inputId Element ID of the input file picker element.\n",
              " * @param {string} outputId Element ID of the output display.\n",
              " * @return {!Iterable<!Object>} Iterable of next steps.\n",
              " */\n",
              "function* uploadFilesStep(inputId, outputId) {\n",
              "  const inputElement = document.getElementById(inputId);\n",
              "  inputElement.disabled = false;\n",
              "\n",
              "  const outputElement = document.getElementById(outputId);\n",
              "  outputElement.innerHTML = '';\n",
              "\n",
              "  const pickedPromise = new Promise((resolve) => {\n",
              "    inputElement.addEventListener('change', (e) => {\n",
              "      resolve(e.target.files);\n",
              "    });\n",
              "  });\n",
              "\n",
              "  const cancel = document.createElement('button');\n",
              "  inputElement.parentElement.appendChild(cancel);\n",
              "  cancel.textContent = 'Cancel upload';\n",
              "  const cancelPromise = new Promise((resolve) => {\n",
              "    cancel.onclick = () => {\n",
              "      resolve(null);\n",
              "    };\n",
              "  });\n",
              "\n",
              "  // Wait for the user to pick the files.\n",
              "  const files = yield {\n",
              "    promise: Promise.race([pickedPromise, cancelPromise]),\n",
              "    response: {\n",
              "      action: 'starting',\n",
              "    }\n",
              "  };\n",
              "\n",
              "  cancel.remove();\n",
              "\n",
              "  // Disable the input element since further picks are not allowed.\n",
              "  inputElement.disabled = true;\n",
              "\n",
              "  if (!files) {\n",
              "    return {\n",
              "      response: {\n",
              "        action: 'complete',\n",
              "      }\n",
              "    };\n",
              "  }\n",
              "\n",
              "  for (const file of files) {\n",
              "    const li = document.createElement('li');\n",
              "    li.append(span(file.name, {fontWeight: 'bold'}));\n",
              "    li.append(span(\n",
              "        `(${file.type || 'n/a'}) - ${file.size} bytes, ` +\n",
              "        `last modified: ${\n",
              "            file.lastModifiedDate ? file.lastModifiedDate.toLocaleDateString() :\n",
              "                                    'n/a'} - `));\n",
              "    const percent = span('0% done');\n",
              "    li.appendChild(percent);\n",
              "\n",
              "    outputElement.appendChild(li);\n",
              "\n",
              "    const fileDataPromise = new Promise((resolve) => {\n",
              "      const reader = new FileReader();\n",
              "      reader.onload = (e) => {\n",
              "        resolve(e.target.result);\n",
              "      };\n",
              "      reader.readAsArrayBuffer(file);\n",
              "    });\n",
              "    // Wait for the data to be ready.\n",
              "    let fileData = yield {\n",
              "      promise: fileDataPromise,\n",
              "      response: {\n",
              "        action: 'continue',\n",
              "      }\n",
              "    };\n",
              "\n",
              "    // Use a chunked sending to avoid message size limits. See b/62115660.\n",
              "    let position = 0;\n",
              "    do {\n",
              "      const length = Math.min(fileData.byteLength - position, MAX_PAYLOAD_SIZE);\n",
              "      const chunk = new Uint8Array(fileData, position, length);\n",
              "      position += length;\n",
              "\n",
              "      const base64 = btoa(String.fromCharCode.apply(null, chunk));\n",
              "      yield {\n",
              "        response: {\n",
              "          action: 'append',\n",
              "          file: file.name,\n",
              "          data: base64,\n",
              "        },\n",
              "      };\n",
              "\n",
              "      let percentDone = fileData.byteLength === 0 ?\n",
              "          100 :\n",
              "          Math.round((position / fileData.byteLength) * 100);\n",
              "      percent.textContent = `${percentDone}% done`;\n",
              "\n",
              "    } while (position < fileData.byteLength);\n",
              "  }\n",
              "\n",
              "  // All done.\n",
              "  yield {\n",
              "    response: {\n",
              "      action: 'complete',\n",
              "    }\n",
              "  };\n",
              "}\n",
              "\n",
              "scope.google = scope.google || {};\n",
              "scope.google.colab = scope.google.colab || {};\n",
              "scope.google.colab._files = {\n",
              "  _uploadFiles,\n",
              "  _uploadFilesContinue,\n",
              "};\n",
              "})(self);\n",
              "</script> "
            ],
            "text/plain": [
              "<IPython.core.display.HTML object>"
            ]
          },
          "metadata": {},
          "output_type": "display_data"
        },
        {
          "name": "stdout",
          "output_type": "stream",
          "text": [
            "Saving chat_dataset.csv to chat_dataset.csv\n"
          ]
        }
      ],
      "source": [
        "from google.colab import files\n",
        "import pandas as pd\n",
        "\n",
        "# Upload a CSV file from your local machine to Colab\n",
        "uploaded = files.upload()\n",
        "\n",
        "# Assuming you uploaded a file named \"example.csv\"\n",
        "file_name = \"chat_dataset.csv\"\n",
        "\n",
        "# Read the CSV file into a DataFrame\n",
        "df = pd.read_csv(file_name)"
      ]
    },
    {
      "cell_type": "code",
      "execution_count": null,
      "metadata": {
        "colab": {
          "base_uri": "https://localhost:8080/"
        },
        "id": "2IhkPg6YmRYT",
        "outputId": "61c23c95-663f-4c39-841a-b8c054cff381"
      },
      "outputs": [
        {
          "name": "stdout",
          "output_type": "stream",
          "text": [
            "                                               message sentiment\n",
            "0                           I really enjoyed the movie  positive\n",
            "1                                The food was terrible  negative\n",
            "2                   I'm not sure how I feel about this   neutral\n",
            "3                            The service was excellent  positive\n",
            "4                               I had a bad experience  negative\n",
            "..                                                 ...       ...\n",
            "579  I have to cancel my vacation plans because I c...  negative\n",
            "580  My computer crashed and I lost all my importan...  negative\n",
            "581  I got into a car accident and my car is totale...  negative\n",
            "582  I have a cold and can't stop coughing. it's re...  negative\n",
            "583  I just found out my ex is dating someone new. ...  negative\n",
            "\n",
            "[584 rows x 2 columns]\n",
            "                              message sentiment\n",
            "0          I really enjoyed the movie  positive\n",
            "1               The food was terrible  negative\n",
            "2  I'm not sure how I feel about this   neutral\n",
            "3           The service was excellent  positive\n",
            "4              I had a bad experience  negative\n",
            "['I really enjoyed the movie', 'The food was terrible', \"I'm not sure how I feel about this\", 'The service was excellent', 'I had a bad experience', 'This is a great product', \"I wouldn't recommend this\", 'The price is a bit high', 'The weather is perfect today', 'The traffic is horrible', \"I'm feeling neutral about this\", 'The concert was amazing', 'The customer service was terrible', 'This book is a masterpiece', 'I regret buying this product', 'The view from here is breathtaking', \"I don't know what to think about this\", 'The internet speed is slow', 'The museum was fascinating', 'The noise level is too high', \"I don't have an opinion on this\", 'The hotel room was spacious and clean', 'The service at this restaurant was awful', 'This software is very user-friendly', 'The quality of the product is poor', \"I don't really care about this\", 'The beach was crowded', 'This is an excellent company to work for', 'The movie was a waste of time', \"I'm undecided about this\", 'The game was a complete disaster', 'The scenery here is beautiful', 'The speaker was very engaging', 'I had a great time', 'This product is overpriced', \"I'm indifferent to this\", 'The performance was outstanding', 'The car broke down on the highway', \"I don't have strong feelings about this\", 'The food was delicious', 'The service at this hotel was terrible', 'This phone is amazing', \"I'm not impressed with this\", 'I have mixed feelings about this', 'The weather is terrible today', 'The book was a disappointment', \"I don't care one way or the other\", 'The hike was exhausting', 'This is a fantastic product', \"I don't know what to make of this\", 'The customer service was great', 'The noise level is tolerable', 'The hotel room was dirty and cramped', \"I'm very pleased with this\", 'The traffic is light', 'This movie was boring', 'I have no opinion on this', 'The beach was beautiful', 'The food was average', 'I regret wasting my money on this product', 'The view from here is average', 'The museum was boring', \"I don't really care about this topic\", 'The hotel was noisy at night', 'This software is difficult to use', 'The game was exciting', 'The speaker was boring', \"I didn't enjoy this at all\", 'The car is in great condition', \"I'm not sure what to think about this\", 'The service at this restaurant was excellent', 'The scenery here is average', 'This company is terrible', 'The movie was great', \"I'm not satisfied with this product\", 'I have no strong feelings about this', 'The weather is wonderful today', 'The book was amazing', \"I don't have a preference\", 'The hike was refreshing', 'This is a terrible product', 'The performance was mediocre', \"I'm not sure if I like this\", 'The food was not very good', 'The service at this hotel was great', 'This phone is not very user-friendly', \"I'm impressed with this\", 'The traffic is moderate', 'This movie was entertaining', 'I have no interest in this', 'The beach was peaceful', 'The food was outstanding', 'I regret not buying this product', 'The view from here is stunning', 'The museum was informative', \"I don't have strong feelings either way\", 'The hotel was comfortable', 'This software is very complicated', 'The game was challenging', 'The speaker was inspiring', 'I enjoyed this very much', 'The car is not reliable', \"I'm ambivalent about this\", 'The service at this restaurant was mediocre', 'The scenery here is breathtaking', 'This company is excellent', 'The movie was okay', \"I'm not happy with this product\", \"I don't really have an opinion on this\", 'The weather is nice today', 'The book was okay', \"I don't care about this\", 'The hike was invigorating', 'This is a terrible company', 'The performance was below average', \"I'm not sure if I want to pursue this\", 'The food was not bad', 'The service at this hotel was mediocre', 'This phone is just okay', 'The traffic is heavy', 'This movie was disappointing', \"I'm not interested in this\", 'The beach was dirty', 'The food was terrible and overpriced', 'I regret buying this', 'The view from here is unremarkable', 'The museum was dull', 'I have no strong opinion on this', 'The hotel was noisy during the day', 'This software is frustrating to use', 'The game was boring', 'The speaker was uninteresting', 'I did not enjoy this', 'The car is expensive', \"I'm unsure about this\", 'The service at this restaurant was poor', 'The scenery here is unimpressive', 'This company is awful', 'The movie was terrible', \"I'm very unhappy with this product\", 'I have no preference', 'The weather is awful today', 'The book was boring', \"I'm not interested in this topic\", 'The hike was difficult', 'This is a useless product', 'The performance was excellent', \"I'm on the fence about this\", 'The food was not good', 'The service at this hotel was poor', 'This phone is disappointing', 'The traffic is unbearable', 'This movie was not worth watching', \"I don't care one way or the other\", 'The beach was crowded and dirty', 'The food was below average', 'I regret purchasing this product', 'The view from here is unappealing', 'The museum was uninteresting', 'I have no strong feelings about this', 'The hotel was overpriced', 'This software is a nightmare to use', 'The game was frustrating', 'The speaker was dull', \"I wouldn't recommend this\", 'The car is old and unreliable', \"I'm undecided about this\", 'The service at this restaurant was terrible', 'The scenery here is unremarkable', 'This company is horrible', 'The movie was not enjoyable', \"I'm dissatisfied with this product\", 'I have no opinion on this', 'The weather is terrible today', 'The book was not interesting', 'I really enjoyed the movie', 'The food was terrible', \"I'm not sure how I feel about this\", 'The service was excellent', 'I had a bad experience', 'This is a great product', \"I wouldn't recommend this\", 'The price is a bit high', \"I don't care about this subject\", 'The hike was uneventful', 'This is an average product', 'The performance was good', 'I have mixed feelings about this', 'The food was satisfactory', 'The service at this hotel was average', 'This phone is average', 'The traffic is typical for this time of day', 'This movie was average', \"I'm indifferent to this\", 'The beach was average', 'The museum was average', 'I have no opinion on this', 'The hotel was average', 'This software is average', 'The game was average', 'The speaker was average', 'I have no strong emotions about this', 'The car is average', \"I don't have a preference\", 'The service at this restaurant was average', 'The scenery here is average', 'This company is average', 'The book was average', 'I have no strong feelings one way or the other', 'The weather is average today', \"I'm not particularly interested in this\", 'The hike was average', 'This is a typical product', 'The performance was average', \"I'm neutral on this\", 'The food was average', 'The service at this hotel was standard', 'This phone is standard', 'The traffic is normal', 'This movie was mediocre', 'I have no strong opinion about this', 'The beach was unremarkable', 'The museum was standard', 'I have no strong feelings about this', 'The hotel was standard', 'This software is standard', 'The game was standard', 'The speaker was standard', \"I'm indifferent to this\", 'The car is standard', 'I have no preference', 'The service at this restaurant was standard', 'The scenery here is standard', 'This company is standard', 'The book was standard', \"I don't feel strongly about this\", 'The weather is normal today', 'I have no particular interest in this', 'The hike was standard', 'This is a regular product', 'The performance was satisfactory', \"I'm undecided on this\", 'The food was regular', 'The service at this hotel was okay', 'This phone is regular', 'The traffic is average', 'This movie was regular', 'I have no opinion on this', 'The beach was typical', 'The museum was okay', 'I have no strong opinions about this', 'The hotel was average', 'This software is regular', 'The game was average', 'The speaker was average', \"I'm neutral about this\", 'The car is average', 'I have no preference', 'The service at this restaurant was okay', 'The scenery here is regular', 'This company is regular', 'The book was okay', \"I'm neutral on this\", 'The weather is regular today', \"I don't have a particular interest in this\", 'The hike was regular', 'This is an ordinary product', 'The performance was typical', \"I'm neutral about this\", 'The food was ordinary', 'The service at this hotel was average', 'This phone is ordinary', 'The traffic is standard', 'This movie was ordinary', 'I have no strong opinions on this', 'The beach was standard', 'The museum was average', 'I have no opinion on this', 'The hotel was ordinary', 'This software is ordinary', 'The pizza was delicious', 'I had an amazing time at the party', 'The hotel was great', 'This phone is fantastic', 'The view from the top was breathtaking', 'The customer service was excellent', 'I love this product', 'The movie was fantastic', 'I had a great experience', 'The food was delicious', 'The staff at the restaurant was wonderful', \"I'm really happy with my purchase\", 'The hotel room was comfortable', 'I enjoyed every moment of my vacation', 'The service at this spa was amazing', \"I'm impressed with the quality of this product\", 'The atmosphere at the party was fun', 'This restaurant has amazing food', 'The staff at the hotel were friendly and helpful', 'The concert was incredible', \"I'm in love with this place\", 'The drinks were great', 'The service at this restaurant was excellent', \"I can't wait to come back here\", 'The hotel staff went above and beyond', \"I'm so glad I tried this product\", 'The beach was beautiful', 'The staff at the store were so helpful', \"This is the best phone I've ever owned\", 'The show was amazing', \"I'm so happy I booked this vacation\", 'The coffee was excellent', 'The staff at the spa were very professional', \"I'm really impressed with this company\", 'The service at the hotel was outstanding', 'The food at this restaurant was top-notch', 'I love the design of this product', 'The hotel amenities were great', 'The staff at the museum were very knowledgeable', 'I had a wonderful time at the event', \"I'm so grateful for the help I received from customer service\", 'The product exceeded my expectations', 'The room was clean and comfortable', \"I'm really enjoying this book\", 'The service at this salon was top-notch', \"I'm so glad I made this purchase\", 'The food at the wedding was delicious', \"Hey.. what's up? 😀\", \"I'm feeling so-so 😕\", 'Thanks for your help! 🙏', \"I'm not sure what to do 😕\", 'Can we reschedule our meeting? 📅', \"I'm on my way! 🚗\", 'This weather is crazy ☀️🌧️', \"I'm not feeling great 😷\", \"I'm looking forward to our vacation! 🌴🏖️\", \"I don't know what I want to eat 🍽️\", \"I'm in the middle of something. can I call you back later? 📱\", \"I'm trying to decide between two options 🤔\", 'It was nice meeting you! 👋', \"I'm just hanging out at home 🏠\", \"I'm not really sure what you mean 🤷\\u200d♀️\", \"I'm sorry. I can't make it to the party 🎉\", \"I'm so tired 😴\", 'Can you remind me of the details? 🤔', \"I'm not feeling very productive today 📉\", \"I'm just doing some work from home today 💻\", \"I don't know if I have time for that 🕑\", \"I'm not sure if I'm doing this right 🤷\\u200d♂️\", \"I'm feeling a bit overwhelmed 😰\", \"I'm not sure what to wear today 👗\", \"I'm thinking about going for a run 🏃\\u200d♀️\", \"I'm not sure if I'm ready for this 🤔\", \"I'm just hanging out with friends tonight 🍻\", \"I'm really hungry 🍔\", \"I'm feeling a bit better now 😊\", \"I'm not sure if I can make it to the meeting 🤷\\u200d♂️\", \"I'm not feeling well today 🤒\", \"I'm trying to stay positive 😊\", \"I'm not sure what to say 🤷\\u200d♀️\", \"I'm feeling pretty good today 👍\", \"I'm feeling a bit lost right now 🌪️\", \"I'm just taking it easy today 🛀\", \"I'm not sure if I'm ready for this 🙈\", \"I'm feeling a bit anxious 😬\", \"I'm not sure what to do next 🤔\", \"I'm not really sure how to respond to that 🤷\\u200d♂️\", \"I'm just enjoying the nice weather ☀️\", \"I'm feeling a bit under the weather 🤧\", \"I'm not sure if I should go to the gym 🤔\", \"I'm feeling a bit overwhelmed with work 😓\", \"I'm just relaxing at home 🛋️\", \"I'm not sure if I want to do that 🤔\", \"I'm feeling a bit bored 😐\", \"I'm not sure if I'm up for that 🤷\\u200d♀️\", \"I'm just trying to stay focused 🧐\", \"I'm feeling a bit stressed out 😫\", \"I'm not sure if I'm ready to make that decision 🤷\\u200d♂️\", \"I'm feeling a bit distracted today 🤯\", \"I'm not sure if I'm doing this right 🤨\", \"I'm just hanging out with my family today 👨\\u200d👩\\u200d👧\\u200d👦\", \"I'm feeling a bit uncertain about things right now 🤔\", \"I'm not sure what to make for dinner 🤷\\u200d♀️\", \"I'm just taking it one day at a time 📆\", \"I'm feeling a bit restless today 🤫\", \"I'm not sure if I'm in the mood for that 🤷\\u200d♂️\", \"I'm just trying to stay positive 😌\", \"I'm feeling a bit out of my comfort zone 😬\", \"I'm not sure if I can make it to the event 🤷\\u200d♀️\", \"I'm just enjoying some alone time 🧘\\u200d♀️\", \"I'm feeling a bit stuck right now 🚶\\u200d♀️\", \"I'm not sure what to do with my free time 🤷\\u200d♂️\", \"I'm just trying to figure things out 🔍\", \"I'm feeling a bit overwhelmed with everything going on 😩\", \"I'm not sure if I'm making the right decision 🤔\", \"I'm just taking things one step at a time 🚶\\u200d♂️\", \"I'm feeling a bit frustrated today 😤\", \"I'm not sure if I should say anything 🤫\", \"I'm just trying to keep things in perspective 🌅\", \"I'm feeling a bit confused right now 🤷\\u200d♀️\", \"I'm not sure what to do next 🤷\\u200d♂️\", \"I'm just trying to stay focused on my goals 🎯\", \"I'm feeling a bit lost without my phone 📱\", \"I'm not sure if I should go out tonight 🤔\", \"I'm just trying to find my way 🗺️\", \"I'm feeling a bit bored with my routine 🥱\", \"I'm not sure what to do with my spare time 🤷\\u200d♀️\", \"I'm just trying to keep my head above water 🌊\", \"I'm feeling a bit restless today 🕺\", \"I'm not sure if I'm up for that challenge 🤷\\u200d♂️\", \"I'm just trying to stay positive and keep moving forward 🚶\\u200d♀️\", \"I'm feeling a bit uncertain about the future 🤨\", \"I'm not sure what to do with my life 🤔\", \"I'm just trying to make the most of every day 🌞\", \"I'm feeling a bit overwhelmed with everything on my plate 🍽️\", \"I'm not sure if I'm ready to take that risk 🤔\", \"I'm just trying to stay focused on my work 💼\", \"I'm feeling a bit stressed out today 😩\", \"I'm not sure what to do with my weekend 🤷\\u200d♀️\", \"I'm just trying to find some balance in my life ⚖️\", \"I'm feeling a bit lost without a plan 📝\", \"I'm not sure if I should reach out to them 🤔\", \"I'm feeling so happy today 😃\", \"I'm loving this beautiful weather ☀️\", \"I'm so grateful for my friends and family 🙏\", \"I'm feeling great after my workout this morning 💪\", \"I'm enjoying this delicious meal 🍽️\", \"I'm feeling so proud of myself for accomplishing my goals 🏆\", \"I'm loving spending time with my significant other ❤️\", \"I'm feeling so blessed to have such amazing people in my life 🥰\", \"I'm enjoying this relaxing day at home 🏡\", \"I'm feeling so inspired by the people around me 💡\", \"I'm loving this new book I'm reading 📚\", \"I'm feeling so motivated to tackle my to-do list today 📝\", \"I'm enjoying this beautiful scenery 🌅\", \"I'm feeling so excited for the future 🔮\", \"I'm loving this new hobby I picked up 🎨\", \"I'm feeling so grateful for all the opportunities in my life 🙌\", \"I'm enjoying this fun night out with friends 🎉\", \"I'm feeling so happy to be alive and healthy 🌟\", \"I'm loving this new music I discovered 🎶\", \"I'm feeling so fulfilled by my work and accomplishments 👍\", \"I'm enjoying this much-needed vacation 🌴\", \"I'm feeling so content with my life right now 😊\", \"I'm loving this cozy evening in with a good movie 🍿\", \"I'm feeling so lucky to have such supportive people in my life 🍀\", \"I'm enjoying this beautiful view from the top of the mountain ⛰️\", \"I'm so excited for the concert tonight! 🎤🎶\", 'I just got a promotion at work! 🎉🎊', 'I love spending time with my family ❤️', 'I had the best vacation ever! 🌴🌞', \"I'm so happy to be back home with my loved ones 😍\", \"I just finished a project I've been working on for months! 💪\", \"I'm grateful for all the good things in my life 🙏\", 'I just got a surprise visit from an old friend! 😃', 'I love trying new foods and flavors! 🍴😋', 'I had an amazing date last night 😍', \"I'm so proud of my accomplishments this year 🎓\", 'I love spending time in nature 🌳🍂', 'I just completed a marathon! 🏃\\u200d♀️🏅', \"I'm so grateful for the people in my life who support me 💕\", 'I love seeing my favorite band live in concert! 🤘🎶', 'I just received a compliment from my boss 🤗', \"I'm so happy to be surrounded by positive people! 😊\", 'I love learning new things and expanding my knowledge 📚🤓', \"I just got a new puppy and he's the cutest thing ever! 🐶❤️\", \"I'm grateful for the little things in life 🌻\", 'I just won first place in a competition! 🥇🏆', \"I'm so lucky to have such a supportive and loving partner 💑💕\", 'I love exploring new places and cultures 🌎🧳', 'I just achieved a personal goal I set for myself! 🎯💪', \"I'm so grateful for the beautiful weather today ☀️\", 'I love seeing my friends and catching up with them! 🤗❤️', 'I just received a thoughtful gift from someone special 🎁😍', \"I'm so happy to have a job I love and am passionate about 💼😊\", 'I love spending time with my pets 🐱🐶', 'I just completed a challenging workout! 💪🏋️\\u200d♂️', \"I'm so grateful for the opportunities I have in life 🙌\", 'I love trying new things and stepping out of my comfort zone! 🌟', 'I just got a great grade on a test I studied hard for! 📝👍', \"I'm so happy to have supportive and loving friends! ❤️\", 'I love going on adventures and exploring new things 🏞️🚣\\u200d♀️', 'I just completed a difficult task and it feels amazing! 😎💪', \"I'm so grateful for my health and well-being 🏥💪\", 'I love spending time with my significant other and creating new memories ❤️', 'I just received a promotion at work! 🎉🎊💼', \"I'm so happy to be surrounded by positivity and good vibes! 😊✨\", 'I love trying new things and pushing my limits! 🤩💪', 'I just achieved a major milestone in my personal life! 🌟🎯', \"I'm feeling so down today... 😔\", \"I just found out I didn't get the job I applied for 😢\", 'I hate feeling so stressed and overwhelmed 😩', 'I had a terrible day at work today 😞', \"I'm so disappointed in myself for making that mistake 😞\", 'I just went through a breakup and it hurts so much 😢💔', \"I can't believe I failed that exam 😭\", 'I hate feeling so alone and isolated 😔', \"I'm so tired of dealing with drama and negativity 😒\", 'I just lost my wallet and all my important documents... 😫', \"I'm so sick and tired of feeling sick and tired 😷😴\", 'I hate the way I look in this outfit... 😒', 'I just got into a fight with my best friend 😔💔', \"I'm so stressed out about everything going on in my life 😞\", 'I hate feeling so powerless and helpless 😔', \"I just got some bad news and I don't know how to deal with it 😞\", \"I'm so disappointed in someone I trusted... 😒💔\", \"I can't believe how much work I have to do and how little time I have 😩💼\", 'I hate feeling so anxious and on edge all the time 😔😟', 'I just got rejected by someone I really liked... 😢💔', \"I'm so tired of feeling like nothing is going right in my life 😒\", 'I hate the way people are treating me lately... 😒', \"I just lost my pet and I'm heartbroken 😭💔\", \"I'm so frustrated with myself for not being able to do better 😤\", 'I hate feeling so overwhelmed and out of control 😔', \"I just lost my job and don't know what to do 😔\", \"I'm so frustrated with how my day is going 😒\", \"I just got into a fight with my partner and it's not going well 😞\", \"I hate when things don't go according to plan 🤬\", \"I'm so disappointed with how things turned out 😔\", \"I just got some bad news and I'm feeling down 😞\", \"I'm so stressed out with everything going on 😩\", 'I hate dealing with difficult people 🙄', 'I just got into a car accident and my car is totaled 😢🚗', \"I'm so tired of the drama in my life 😴\", 'I just failed a test I studied so hard for 😞📚', \"I'm so upset about the way things turned out 😔\", \"I hate feeling like I'm not good enough 😔\", 'I just got rejected from my dream job 😞💼', \"I'm so overwhelmed with everything on my plate 😫\", 'I hate dealing with rude and disrespectful people 🤬', 'I just had a falling out with a close friend 😞', \"I'm so disappointed with myself for making a mistake 😔\", \"I hate feeling like I'm stuck in a rut 😒\", \"I just got into an argument with a family member and it's not going well 😔\", \"I'm so frustrated with my lack of progress 😞\", \"I hate feeling like I'm not in control of my life 😔\", 'I just got some bad news about my health 😞🏥', \"I'm so stressed out about my financial situation 😩💸\", \"I hate when things don't go as planned and I have to start over 😒\", 'I just got a raise and my salary is now $75000! 🎉💰', \"I'm so excited to be going to Disneyland tomorrow! 🎢🎠\", 'I had the best sushi for lunch today at this restaurant: http://www.sushifusion.com 🍣😋', 'I just finished reading an amazing book that I highly recommend! 📚👌', \"I'm so happy to be living in my dream apartment with a view of the ocean 🌊😍\", 'I just completed a 5K run in 25 minutes! 🏃\\u200d♀️💪', \"I'm grateful for my new car that gets 40 miles per gallon! 🚗🙏\", 'I love my new dress that I got on sale for only $50! 👗💸', \"I just booked a trip to Italy and I'm so excited! 🇮🇹🧳\", \"I'm so grateful for my health and fitness journey - I've lost 20 pounds! 🏋️\\u200d♀️🥗\", \"I just finished a painting that I'm really proud of! 🎨😊\", 'I love my new job and the people I work with! 💼😍', 'I just got a text from my crush asking me out on a date! 😍📱', \"I'm grateful for my supportive community and the positive energy they bring! 💕🙏\", 'I just had the best cup of coffee at this new cafe in town: https://www.cafeculture.com ☕️😋', 'I need to buy 5 oranges for my recipe today 🍊', 'Can you send me the link to the article you mentioned earlier? 📝🤔', 'I have a dentist appointment tomorrow at 2pm 🦷😬', 'I need to water my plants before I leave for work 🌱💦', \"I'm going to the grocery store after work to buy some milk and bread 🛍️🍞\", \"I'm working on a project with a deadline of next week 🗓️📈\", \"I'm taking a break from work to stretch my legs 🚶\\u200d♀️💪\", 'I need to clean my apartment before my parents come to visit this weekend 🧹🏠', \"I'm watching a movie and eating popcorn right now 🍿🎥\", 'I need to call my insurance company to update my policy 📞🤔', \"I'm studying for my final exams next week 📚📝\", \"I'm planning a road trip for this summer with my friends 🚗🌴\", \"I'm browsing the internet for ideas on how to decorate my apartment 🖥️🛋️\", \"I'm doing laundry and folding my clothes right now 🧺👕\", 'I need to buy new shoes for work. my old ones are worn out 👞🛍️', 'I just got a $500 ticket for parking in the wrong spot 😠🎫', \"My phone bill this month is $200 more than usual. I don't know why 📱💸\", \"I tried a new restaurant and got food poisoning. now I'm stuck in bed 😷🤢\", \"I can't believe my rent just went up $300. how am I supposed to afford that? 🏠💰\", 'I have to work on Saturday this week and I was planning to go to a concert 😩🎶', \"My internet has been down all day and I can't get any work done 🖥️🤬\", 'I lost my credit card and someone just charged $1000 on it 🤦\\u200d♀️💳', 'I missed my flight and had to buy a new ticket for $500 😭🛫', 'I got a bad haircut and now I have to wear a hat all week 🧢💇\\u200d♀️', \"I got a parking ticket while I was at the doctor's office. even though I parked in the designated spot 🚗🎫\", \"I have to cancel my vacation plans because I can't get time off work 😞🌴\", 'My computer crashed and I lost all my important files 😱💻', 'I got into a car accident and my car is totaled 😔🚗', \"I have a cold and can't stop coughing. it's really hard to sleep 😷🤧\", 'I just found out my ex is dating someone new. I feel so heartbroken 💔😢']\n"
          ]
        }
      ],
      "source": [
        "print(df)\n",
        "print(df.head())\n",
        "sentence=df[\"message\"].tolist()\n",
        "print(sentence)"
      ]
    },
    {
      "cell_type": "code",
      "execution_count": null,
      "metadata": {
        "id": "lOv8NrFFmRcE"
      },
      "outputs": [],
      "source": [
        "from tensorflow import keras\n",
        "from keras.preprocessing.text import Tokenizer\n",
        "tokenizer=Tokenizer()"
      ]
    },
    {
      "cell_type": "code",
      "execution_count": null,
      "metadata": {
        "id": "KG1RqcLnmRkA"
      },
      "outputs": [],
      "source": [
        "tokenizer.fit_on_texts(sentence)"
      ]
    },
    {
      "cell_type": "code",
      "execution_count": null,
      "metadata": {
        "colab": {
          "base_uri": "https://localhost:8080/"
        },
        "id": "1s-l-hqBlsr6",
        "outputId": "e133c567-5da2-43bc-cc1b-7cff6fa7b0b3"
      },
      "outputs": [
        {
          "data": {
            "text/plain": [
              "864"
            ]
          },
          "execution_count": 28,
          "metadata": {},
          "output_type": "execute_result"
        }
      ],
      "source": [
        "len(tokenizer.word_index)"
      ]
    },
    {
      "cell_type": "code",
      "execution_count": null,
      "metadata": {
        "colab": {
          "base_uri": "https://localhost:8080/"
        },
        "id": "ZPzT5W2-lwBD",
        "outputId": "7ea0bbd7-340f-4a8a-aa98-9763c2da0851"
      },
      "outputs": [
        {
          "data": {
            "text/plain": [
              "[[3, 47, 143, 1, 38],\n",
              " [1, 34, 5, 54],\n",
              " [2, 13, 20, 71, 3, 144, 21, 4],\n",
              " [1, 25, 5, 76],\n",
              " [3, 55, 6, 100, 173],\n",
              " [4, 7, 6, 48, 28],\n",
              " [3, 174, 145, 4],\n",
              " [1, 229, 7, 6, 27, 175],\n",
              " [1, 49, 7, 364, 24],\n",
              " [1, 77, 7, 230],\n",
              " [2, 14, 122, 21, 4],\n",
              " [1, 123, 5, 62],\n",
              " [1, 146, 25, 5, 54],\n",
              " [4, 57, 7, 6, 365],\n",
              " [3, 124, 176, 4, 28],\n",
              " [1, 86, 43, 50, 7, 177],\n",
              " [3, 30, 101, 41, 9, 231, 21, 4],\n",
              " [1, 178, 366, 7, 367],\n",
              " [1, 72, 5, 368],\n",
              " [1, 232, 233, 7, 369, 175],\n",
              " [3, 30, 18, 73, 78, 22, 4],\n",
              " [1, 29, 147, 5, 370, 10, 179],\n",
              " [1, 25, 16, 4, 51, 5, 180],\n",
              " [4, 79, 7, 63, 234, 181],\n",
              " [1, 235, 26, 1, 28, 7, 182],\n",
              " [3, 30, 47, 108, 21, 4],\n",
              " [1, 74, 5, 236],\n",
              " [4, 7, 73, 76, 64, 9, 40, 17],\n",
              " [1, 38, 5, 6, 371, 26, 35],\n",
              " [2, 183, 21, 4],\n",
              " [1, 87, 5, 6, 372, 373],\n",
              " [1, 80, 50, 7, 102],\n",
              " [1, 88, 5, 63, 374],\n",
              " [3, 55, 6, 48, 35],\n",
              " [4, 28, 7, 184],\n",
              " [2, 185, 9, 4],\n",
              " [1, 89, 5, 186],\n",
              " [1, 56, 375, 148, 22, 1, 376],\n",
              " [3, 30, 18, 65, 90, 21, 4],\n",
              " [1, 34, 5, 125],\n",
              " [1, 25, 16, 4, 29, 5, 54],\n",
              " [4, 58, 7, 62],\n",
              " [2, 13, 149, 15, 4],\n",
              " [3, 18, 237, 90, 21, 4],\n",
              " [1, 49, 7, 54, 24],\n",
              " [1, 57, 5, 6, 377],\n",
              " [3, 30, 108, 126, 81, 187, 1, 127],\n",
              " [1, 91, 5, 378],\n",
              " [4, 7, 6, 188, 28],\n",
              " [3, 30, 101, 41, 9, 103, 26, 4],\n",
              " [1, 146, 25, 5, 48],\n",
              " [1, 232, 233, 7, 379],\n",
              " [1, 29, 147, 5, 189, 10, 380],\n",
              " [2, 63, 381, 15, 4],\n",
              " [1, 77, 7, 382],\n",
              " [4, 38, 5, 128],\n",
              " [3, 18, 36, 78, 22, 4],\n",
              " [1, 74, 5, 102],\n",
              " [1, 34, 5, 23],\n",
              " [3, 124, 383, 8, 384, 22, 4, 28],\n",
              " [1, 86, 43, 50, 7, 23],\n",
              " [1, 72, 5, 128],\n",
              " [3, 30, 47, 108, 21, 4, 238],\n",
              " [1, 29, 5, 239, 16, 190],\n",
              " [4, 79, 7, 150, 9, 191],\n",
              " [1, 87, 5, 385],\n",
              " [1, 88, 5, 128],\n",
              " [3, 240, 241, 4, 16, 92],\n",
              " [1, 56, 7, 19, 48, 386],\n",
              " [2, 13, 20, 41, 9, 231, 21, 4],\n",
              " [1, 25, 16, 4, 51, 5, 76],\n",
              " [1, 80, 50, 7, 23],\n",
              " [4, 64, 7, 54],\n",
              " [1, 38, 5, 48],\n",
              " [2, 13, 387, 15, 4, 28],\n",
              " [3, 18, 36, 65, 90, 21, 4],\n",
              " [1, 49, 7, 192, 24],\n",
              " [1, 57, 5, 62],\n",
              " [3, 30, 18, 6, 129],\n",
              " [1, 91, 5, 388],\n",
              " [4, 7, 6, 54, 28],\n",
              " [1, 89, 5, 151],\n",
              " [2, 13, 20, 33, 3, 130, 4],\n",
              " [1, 34, 5, 13, 63, 93],\n",
              " [1, 25, 16, 4, 29, 5, 48],\n",
              " [4, 58, 7, 13, 63, 234, 181],\n",
              " [2, 149, 15, 4],\n",
              " [1, 77, 7, 389],\n",
              " [4, 38, 5, 390],\n",
              " [3, 18, 36, 193, 19, 4],\n",
              " [1, 74, 5, 391],\n",
              " [1, 34, 5, 186],\n",
              " [3, 124, 13, 176, 4, 28],\n",
              " [1, 86, 43, 50, 7, 392],\n",
              " [1, 72, 5, 393],\n",
              " [3, 30, 18, 65, 90, 394, 81],\n",
              " [1, 29, 5, 194],\n",
              " [4, 79, 7, 63, 395],\n",
              " [1, 87, 5, 242],\n",
              " [1, 88, 5, 396],\n",
              " [3, 143, 4, 63, 152],\n",
              " [1, 56, 7, 13, 397],\n",
              " [2, 398, 21, 4],\n",
              " [1, 25, 16, 4, 51, 5, 151],\n",
              " [1, 80, 50, 7, 177],\n",
              " [4, 64, 7, 76],\n",
              " [1, 38, 5, 104],\n",
              " [2, 13, 66, 15, 4, 28],\n",
              " [3, 30, 47, 18, 73, 78, 22, 4],\n",
              " [1, 49, 7, 195, 24],\n",
              " [1, 57, 5, 104],\n",
              " [3, 30, 108, 21, 4],\n",
              " [1, 91, 5, 399],\n",
              " [4, 7, 6, 54, 64],\n",
              " [1, 89, 5, 243, 23],\n",
              " [2, 13, 20, 33, 3, 196, 9, 400, 4],\n",
              " [1, 34, 5, 13, 100],\n",
              " [1, 25, 16, 4, 29, 5, 151],\n",
              " [4, 58, 7, 11, 104],\n",
              " [1, 77, 7, 401],\n",
              " [4, 38, 5, 244],\n",
              " [2, 13, 197, 19, 4],\n",
              " [1, 74, 5, 189],\n",
              " [1, 34, 5, 54, 10, 184],\n",
              " [3, 124, 176, 4],\n",
              " [1, 86, 43, 50, 7, 198],\n",
              " [1, 72, 5, 245],\n",
              " [3, 18, 36, 65, 78, 22, 4],\n",
              " [1, 29, 5, 239, 402, 1, 94],\n",
              " [4, 79, 7, 246, 9, 191],\n",
              " [1, 87, 5, 128],\n",
              " [1, 88, 5, 247],\n",
              " [3, 403, 13, 241, 4],\n",
              " [1, 56, 7, 404],\n",
              " [2, 405, 21, 4],\n",
              " [1, 25, 16, 4, 51, 5, 182],\n",
              " [1, 80, 50, 7, 406],\n",
              " [4, 64, 7, 180],\n",
              " [1, 38, 5, 54],\n",
              " [2, 63, 407, 15, 4, 28],\n",
              " [3, 18, 36, 129],\n",
              " [1, 49, 7, 180, 24],\n",
              " [1, 57, 5, 128],\n",
              " [2, 13, 197, 19, 4, 238],\n",
              " [1, 91, 5, 150],\n",
              " [4, 7, 6, 408, 28],\n",
              " [1, 89, 5, 76],\n",
              " [2, 22, 1, 409, 21, 4],\n",
              " [1, 34, 5, 13, 93],\n",
              " [1, 25, 16, 4, 29, 5, 182],\n",
              " [4, 58, 7, 244],\n",
              " [1, 77, 7, 410],\n",
              " [4, 38, 5, 13, 411, 248],\n",
              " [3, 30, 108, 126, 81, 187, 1, 127],\n",
              " [1, 74, 5, 236, 10, 189],\n",
              " [1, 34, 5, 243, 23],\n",
              " [3, 124, 412, 4, 28],\n",
              " [1, 86, 43, 50, 7, 413],\n",
              " [1, 72, 5, 247],\n",
              " [3, 18, 36, 65, 90, 21, 4],\n",
              " [1, 29, 5, 184],\n",
              " [4, 79, 7, 6, 414, 9, 191],\n",
              " [1, 87, 5, 246],\n",
              " [1, 88, 5, 245],\n",
              " [3, 174, 145, 4],\n",
              " [1, 56, 7, 199, 10, 415],\n",
              " [2, 183, 21, 4],\n",
              " [1, 25, 16, 4, 51, 5, 54],\n",
              " [1, 80, 50, 7, 198],\n",
              " [4, 64, 7, 230],\n",
              " [1, 38, 5, 13, 416],\n",
              " [2, 417, 15, 4, 28],\n",
              " [3, 18, 36, 78, 22, 4],\n",
              " [1, 49, 7, 54, 24],\n",
              " [1, 57, 5, 13, 418],\n",
              " [3, 47, 143, 1, 38],\n",
              " [1, 34, 5, 54],\n",
              " [2, 13, 20, 71, 3, 144, 21, 4],\n",
              " [1, 25, 5, 76],\n",
              " [3, 55, 6, 100, 173],\n",
              " [4, 7, 6, 48, 28],\n",
              " [3, 174, 145, 4],\n",
              " [1, 229, 7, 6, 27, 175],\n",
              " [3, 30, 108, 21, 4, 419],\n",
              " [1, 91, 5, 420],\n",
              " [4, 7, 73, 23, 28],\n",
              " [1, 89, 5, 93],\n",
              " [3, 18, 237, 90, 21, 4],\n",
              " [1, 34, 5, 249],\n",
              " [1, 25, 16, 4, 29, 5, 23],\n",
              " [4, 58, 7, 23],\n",
              " [1, 77, 7, 153, 17, 4, 35, 26, 94],\n",
              " [4, 38, 5, 23],\n",
              " [2, 185, 9, 4],\n",
              " [1, 74, 5, 23],\n",
              " [1, 72, 5, 23],\n",
              " [3, 18, 36, 78, 22, 4],\n",
              " [1, 29, 5, 23],\n",
              " [4, 79, 7, 23],\n",
              " [1, 87, 5, 23],\n",
              " [1, 88, 5, 23],\n",
              " [3, 18, 36, 65, 421, 21, 4],\n",
              " [1, 56, 7, 23],\n",
              " [3, 30, 18, 6, 129],\n",
              " [1, 25, 16, 4, 51, 5, 23],\n",
              " [1, 80, 50, 7, 23],\n",
              " [4, 64, 7, 23],\n",
              " [1, 57, 5, 23],\n",
              " [3, 18, 36, 65, 90, 126, 81, 187, 1, 127],\n",
              " [1, 49, 7, 23, 24],\n",
              " [2, 13, 422, 197, 19, 4],\n",
              " [1, 91, 5, 23],\n",
              " [4, 7, 6, 153, 28],\n",
              " [1, 89, 5, 23],\n",
              " [2, 122, 22, 4],\n",
              " [1, 34, 5, 23],\n",
              " [1, 25, 16, 4, 29, 5, 44],\n",
              " [4, 58, 7, 44],\n",
              " [1, 77, 7, 250],\n",
              " [4, 38, 5, 151],\n",
              " [3, 18, 36, 65, 78, 21, 4],\n",
              " [1, 74, 5, 198],\n",
              " [1, 72, 5, 44],\n",
              " [3, 18, 36, 65, 90, 21, 4],\n",
              " [1, 29, 5, 44],\n",
              " [4, 79, 7, 44],\n",
              " [1, 87, 5, 44],\n",
              " [1, 88, 5, 44],\n",
              " [2, 185, 9, 4],\n",
              " [1, 56, 7, 44],\n",
              " [3, 18, 36, 129],\n",
              " [1, 25, 16, 4, 51, 5, 44],\n",
              " [1, 80, 50, 7, 44],\n",
              " [4, 64, 7, 44],\n",
              " [1, 57, 5, 44],\n",
              " [3, 30, 144, 423, 21, 4],\n",
              " [1, 49, 7, 250, 24],\n",
              " [3, 18, 36, 251, 193, 19, 4],\n",
              " [1, 91, 5, 44],\n",
              " [4, 7, 6, 82, 28],\n",
              " [1, 89, 5, 249],\n",
              " [2, 183, 22, 4],\n",
              " [1, 34, 5, 82],\n",
              " [1, 25, 16, 4, 29, 5, 104],\n",
              " [4, 58, 7, 82],\n",
              " [1, 77, 7, 23],\n",
              " [4, 38, 5, 82],\n",
              " [3, 18, 36, 78, 22, 4],\n",
              " [1, 74, 5, 153],\n",
              " [1, 72, 5, 104],\n",
              " [3, 18, 36, 65, 252, 21, 4],\n",
              " [1, 29, 5, 23],\n",
              " [4, 79, 7, 82],\n",
              " [1, 87, 5, 23],\n",
              " [1, 88, 5, 23],\n",
              " [2, 122, 21, 4],\n",
              " [1, 56, 7, 23],\n",
              " [3, 18, 36, 129],\n",
              " [1, 25, 16, 4, 51, 5, 104],\n",
              " [1, 80, 50, 7, 82],\n",
              " [4, 64, 7, 82],\n",
              " [1, 57, 5, 104],\n",
              " [2, 122, 22, 4],\n",
              " [1, 49, 7, 82, 24],\n",
              " [3, 30, 18, 6, 251, 193, 19, 4],\n",
              " [1, 91, 5, 82],\n",
              " [4, 7, 73, 109, 28],\n",
              " [1, 89, 5, 153],\n",
              " [2, 122, 21, 4],\n",
              " [1, 34, 5, 109],\n",
              " [1, 25, 16, 4, 29, 5, 23],\n",
              " [4, 58, 7, 109],\n",
              " [1, 77, 7, 44],\n",
              " [4, 38, 5, 109],\n",
              " [3, 18, 36, 65, 252, 22, 4],\n",
              " [1, 74, 5, 44],\n",
              " [1, 72, 5, 23],\n",
              " [3, 18, 36, 78, 22, 4],\n",
              " [1, 29, 5, 109],\n",
              " [4, 79, 7, 109],\n",
              " [1, 424, 5, 125],\n",
              " [3, 55, 73, 62, 35, 16, 1, 200],\n",
              " [1, 29, 5, 48],\n",
              " [4, 58, 7, 188],\n",
              " [1, 86, 43, 1, 154, 5, 177],\n",
              " [1, 146, 25, 5, 76],\n",
              " [3, 39, 4, 28],\n",
              " [1, 38, 5, 188],\n",
              " [3, 55, 6, 48, 173],\n",
              " [1, 34, 5, 125],\n",
              " [1, 110, 16, 1, 51, 5, 192],\n",
              " [2, 47, 66, 15, 8, 253],\n",
              " [1, 29, 147, 5, 194],\n",
              " [3, 143, 254, 425, 26, 8, 111],\n",
              " [1, 25, 16, 4, 255, 5, 62],\n",
              " [2, 149, 15, 1, 235, 26, 4, 28],\n",
              " [1, 426, 16, 1, 200, 5, 256],\n",
              " [4, 51, 257, 62, 34],\n",
              " [1, 110, 16, 1, 29, 112, 181, 10, 258],\n",
              " [1, 123, 5, 427],\n",
              " [2, 19, 39, 15, 4, 259],\n",
              " [1, 428, 112, 48],\n",
              " [1, 25, 16, 4, 51, 5, 76],\n",
              " [3, 95, 429, 9, 260, 201, 50],\n",
              " [1, 29, 110, 202, 261, 10, 430],\n",
              " [2, 12, 262, 3, 263, 4, 28],\n",
              " [1, 74, 5, 102],\n",
              " [1, 110, 16, 1, 264, 112, 12, 258],\n",
              " [4, 7, 1, 131, 58, 203, 204, 431],\n",
              " [1, 432, 5, 62],\n",
              " [2, 12, 66, 3, 265, 4, 111],\n",
              " [1, 266, 5, 76],\n",
              " [1, 110, 16, 1, 255, 112, 63, 433],\n",
              " [2, 47, 149, 15, 4, 64],\n",
              " [1, 25, 16, 1, 29, 5, 186],\n",
              " [1, 34, 16, 4, 51, 5, 154, 267],\n",
              " [3, 39, 1, 434, 26, 4, 28],\n",
              " [1, 29, 435, 112, 48],\n",
              " [1, 110, 16, 1, 72, 112, 63, 436],\n",
              " [3, 55, 6, 192, 35, 16, 1, 268],\n",
              " [2, 12, 59, 17, 1, 269, 3, 155, 43, 146, 25],\n",
              " [1, 28, 437, 8, 438],\n",
              " [1, 147, 5, 179, 10, 194],\n",
              " [2, 47, 83, 4, 57],\n",
              " [1, 25, 16, 4, 439, 5, 154, 267],\n",
              " [2, 12, 262, 3, 440, 4, 253],\n",
              " [1, 34, 16, 1, 441, 5, 125],\n",
              " [442, 443, 113, 444],\n",
              " [2, 14, 12, 12, 270],\n",
              " [445, 17, 446, 269, 205],\n",
              " [2, 13, 20, 41, 9, 60, 270],\n",
              " [114, 447, 448, 271, 206, 449],\n",
              " [2, 22, 8, 81, 450],\n",
              " [4, 49, 7, 451, 452],\n",
              " [2, 13, 14, 48, 453],\n",
              " [2, 454, 272, 9, 271, 111, 455],\n",
              " [3, 30, 101, 41, 3, 196, 9, 456, 207],\n",
              " [2, 19, 1, 457, 26, 458, 114, 3, 273, 115, 201, 459, 274],\n",
              " [2, 42, 9, 460, 461, 462, 463, 61],\n",
              " [75, 5, 195, 206, 115, 464],\n",
              " [2, 11, 208, 31, 16, 132, 465],\n",
              " [2, 13, 47, 20, 41, 115, 466, 96],\n",
              " [2, 467, 3, 95, 103, 75, 9, 1, 200, 275],\n",
              " [2, 12, 116, 276],\n",
              " [114, 115, 468, 117, 26, 1, 469, 61],\n",
              " [2, 13, 14, 63, 470, 24, 471],\n",
              " [2, 11, 156, 105, 40, 43, 132, 24, 472],\n",
              " [3, 30, 101, 33, 3, 18, 35, 17, 45, 473],\n",
              " [2, 13, 20, 33, 2, 156, 4, 67, 97],\n",
              " [2, 14, 6, 27, 106, 474],\n",
              " [2, 13, 20, 41, 9, 277, 24, 475],\n",
              " [2, 476, 21, 68, 17, 6, 278, 477],\n",
              " [2, 13, 20, 33, 2, 157, 17, 4, 61],\n",
              " [2, 11, 208, 31, 15, 118, 209, 478],\n",
              " [2, 47, 479, 480],\n",
              " [2, 14, 6, 27, 279, 69, 158],\n",
              " [2, 13, 20, 33, 3, 114, 103, 75, 9, 1, 206, 97],\n",
              " [2, 13, 14, 159, 24, 481],\n",
              " [2, 42, 9, 119, 133, 158],\n",
              " [2, 13, 20, 41, 9, 280, 96],\n",
              " [2, 14, 482, 93, 24, 281],\n",
              " [2, 14, 6, 27, 84, 67, 69, 483],\n",
              " [2, 11, 160, 75, 484, 24, 485],\n",
              " [2, 13, 20, 33, 2, 157, 17, 4, 486],\n",
              " [2, 14, 6, 27, 282, 283],\n",
              " [2, 13, 20, 41, 9, 60, 161, 61],\n",
              " [2, 13, 47, 20, 71, 9, 487, 9, 45, 97],\n",
              " [2, 11, 83, 1, 195, 49, 210],\n",
              " [2, 14, 6, 27, 488, 1, 49, 489],\n",
              " [2, 13, 20, 33, 3, 162, 134, 9, 1, 490, 61],\n",
              " [2, 14, 6, 27, 106, 15, 40, 491],\n",
              " [2, 11, 284, 16, 132, 492],\n",
              " [2, 13, 20, 33, 3, 196, 9, 60, 45, 61],\n",
              " [2, 14, 6, 27, 285, 493],\n",
              " [2, 13, 20, 33, 2, 113, 17, 45, 96],\n",
              " [2, 11, 42, 9, 119, 211, 494],\n",
              " [2, 14, 6, 27, 120, 31, 212],\n",
              " [2, 13, 20, 33, 2, 157, 9, 103, 45, 286, 97],\n",
              " [2, 14, 6, 27, 495, 24, 496],\n",
              " [2, 13, 20, 33, 2, 156, 4, 67, 287],\n",
              " [2, 11, 208, 31, 15, 8, 163, 24, 497],\n",
              " [2, 14, 6, 27, 288, 21, 52, 67, 69, 61],\n",
              " [2, 13, 20, 41, 9, 103, 17, 498, 96],\n",
              " [2, 11, 160, 75, 126, 94, 16, 6, 35, 499],\n",
              " [2, 14, 6, 27, 289, 24, 290],\n",
              " [2, 13, 20, 33, 2, 19, 1, 500, 17, 45, 97],\n",
              " [2, 11, 42, 9, 119, 133, 501],\n",
              " [2, 14, 6, 27, 31, 26, 8, 291, 292, 283],\n",
              " [2, 13, 20, 33, 3, 114, 103, 75, 9, 1, 268, 96],\n",
              " [2, 11, 83, 105, 293, 35, 502],\n",
              " [2, 14, 6, 27, 213, 67, 69, 294],\n",
              " [2, 13, 20, 41, 9, 60, 15, 8, 503, 35, 97],\n",
              " [2, 11, 42, 9, 504, 52, 31, 505],\n",
              " [2, 14, 6, 27, 106, 15, 135, 68, 22, 164],\n",
              " [2, 13, 20, 33, 2, 214, 1, 67, 286, 61],\n",
              " [2, 11, 160, 52, 126, 506, 16, 6, 35, 507],\n",
              " [2, 14, 6, 27, 165, 24, 295],\n",
              " [2, 13, 20, 33, 3, 162, 280, 508, 290],\n",
              " [2, 11, 42, 9, 215, 52, 19, 509, 296],\n",
              " [2, 14, 6, 27, 510, 67, 69, 96],\n",
              " [2, 13, 20, 41, 9, 60, 161, 97],\n",
              " [2, 11, 42, 9, 119, 211, 22, 8, 297, 511],\n",
              " [2, 14, 6, 27, 84, 298, 8, 58, 274],\n",
              " [2, 13, 20, 33, 3, 162, 134, 31, 209, 61],\n",
              " [2, 11, 42, 9, 299, 8, 81, 512],\n",
              " [2, 14, 6, 27, 285, 15, 8, 513, 514],\n",
              " [2, 13, 20, 41, 9, 60, 15, 8, 515, 35, 96],\n",
              " [2, 11, 42, 9, 215, 8, 516, 261, 300, 517],\n",
              " [2, 14, 6, 27, 289, 24, 518],\n",
              " [2, 13, 20, 33, 2, 113, 17, 45, 519, 97],\n",
              " [2, 11, 42, 9, 119, 133, 10, 215, 520, 272, 294],\n",
              " [2, 14, 6, 27, 288, 21, 1, 301, 287],\n",
              " [2, 13, 20, 41, 9, 60, 15, 8, 46, 61],\n",
              " [2, 11, 42, 9, 103, 1, 521, 26, 254, 94, 522],\n",
              " [2, 14, 6, 27, 106, 15, 135, 22, 8, 302, 207],\n",
              " [2, 13, 20, 33, 2, 157, 9, 523, 45, 524, 61],\n",
              " [2, 11, 42, 9, 119, 211, 22, 8, 40, 525],\n",
              " [2, 14, 6, 27, 120, 31, 24, 164],\n",
              " [2, 13, 20, 41, 9, 60, 15, 8, 303, 96],\n",
              " [2, 11, 42, 9, 299, 105, 526, 19, 8, 46, 527],\n",
              " [2, 14, 6, 27, 84, 298, 6, 304, 305],\n",
              " [2, 13, 20, 33, 3, 162, 528, 31, 9, 306, 61],\n",
              " [2, 14, 12, 66, 24, 307],\n",
              " [2, 98, 4, 102, 49, 210],\n",
              " [2, 12, 59, 17, 8, 118, 10, 163, 205],\n",
              " [2, 14, 48, 308, 8, 309, 4, 529, 310],\n",
              " [2, 83, 4, 125, 530, 207],\n",
              " [2, 14, 12, 216, 26, 136, 17, 531, 8, 297, 532],\n",
              " [2, 98, 137, 35, 15, 8, 311, 127, 166],\n",
              " [2, 14, 12, 533, 9, 18, 217, 62, 85, 19, 8, 46, 534],\n",
              " [2, 83, 4, 284, 94, 16, 132, 535],\n",
              " [2, 14, 12, 536, 138, 1, 85, 537, 117, 538],\n",
              " [2, 98, 4, 37, 57, 2, 312, 539],\n",
              " [2, 14, 12, 540, 9, 541, 8, 9, 60, 542, 24, 305],\n",
              " [2, 83, 4, 102, 80, 296],\n",
              " [2, 14, 12, 167, 17, 1, 301, 543],\n",
              " [2, 98, 4, 37, 544, 3, 545, 113, 546],\n",
              " [2, 14, 12, 59, 17, 92, 1, 313, 19, 8, 46, 314],\n",
              " [2, 83, 4, 256, 190, 31, 15, 118, 275],\n",
              " [2, 14, 12, 66, 9, 121, 547, 10, 548, 315],\n",
              " [2, 98, 4, 37, 549, 3, 550, 551],\n",
              " [2, 14, 12, 552, 138, 8, 40, 10, 316, 281],\n",
              " [2, 83, 4, 152, 553, 111, 554],\n",
              " [2, 14, 12, 555, 15, 8, 46, 67, 69, 158],\n",
              " [2, 98, 4, 556, 557, 19, 15, 6, 93, 38, 558],\n",
              " [2, 14, 12, 317, 9, 18, 217, 168, 85, 19, 8, 46, 559],\n",
              " [2, 83, 4, 102, 86, 43, 1, 154, 26, 1, 560, 561],\n",
              " [2, 12, 167, 17, 1, 123, 209, 562],\n",
              " [3, 11, 32, 6, 318, 16, 40, 563],\n",
              " [3, 39, 137, 35, 15, 8, 163, 166],\n",
              " [3, 55, 1, 131, 111, 204, 564],\n",
              " [2, 12, 66, 9, 121, 201, 132, 15, 8, 565, 319, 320],\n",
              " [3, 11, 218, 6, 321, 203, 322, 323, 22, 17, 566, 310],\n",
              " [2, 59, 17, 92, 1, 93, 52, 19, 8, 46, 205],\n",
              " [3, 11, 32, 6, 567, 324, 43, 73, 199, 219, 307],\n",
              " [3, 39, 42, 37, 568, 10, 569, 570],\n",
              " [3, 55, 73, 62, 325, 571, 190, 320],\n",
              " [2, 12, 216, 26, 8, 316, 4, 572, 573],\n",
              " [3, 39, 137, 35, 19, 574, 575],\n",
              " [3, 11, 169, 6, 576, 577],\n",
              " [2, 12, 59, 17, 1, 85, 19, 8, 46, 578, 579, 117, 580],\n",
              " [3, 39, 326, 8, 581, 582, 583, 19, 123, 584],\n",
              " [3, 11, 155, 6, 585, 43, 8, 586, 587],\n",
              " [2, 12, 66, 9, 121, 327, 138, 133, 85, 158],\n",
              " [3, 39, 588, 37, 52, 10, 589, 8, 590, 591],\n",
              " [3, 11, 32, 6, 37, 592, 10, 593, 1, 594, 595, 204, 596],\n",
              " [2, 59, 17, 1, 328, 52, 19, 46, 597],\n",
              " [3, 11, 598, 599, 259, 19, 6, 600, 601],\n",
              " [2, 12, 317, 9, 18, 217, 6, 168, 10, 98, 329, 602],\n",
              " [3, 39, 330, 37, 603, 10, 604, 605],\n",
              " [3, 11, 331, 6, 332, 606, 3, 607, 17, 136, 608],\n",
              " [2, 12, 59, 17, 1, 102, 49, 24, 210],\n",
              " [3, 39, 326, 8, 118, 10, 609, 113, 15, 306, 610],\n",
              " [3, 11, 155, 6, 611, 612, 43, 139, 613, 614],\n",
              " [2, 12, 66, 9, 18, 6, 140, 3, 39, 10, 333, 615, 21, 616],\n",
              " [3, 39, 137, 35, 15, 8, 617, 618],\n",
              " [3, 11, 169, 6, 242, 309, 619],\n",
              " [2, 12, 59, 17, 1, 313, 3, 18, 19, 46, 314],\n",
              " [3, 39, 42, 37, 52, 10, 620, 31, 26, 8, 291, 292, 315],\n",
              " [3, 11, 32, 6, 48, 621, 22, 6, 334, 3, 335, 220, 17, 622],\n",
              " [2, 12, 66, 9, 18, 168, 10, 98, 118, 166],\n",
              " [3, 39, 68, 22, 623, 10, 330, 37, 52, 624],\n",
              " [3, 11, 169, 6, 150, 625, 10, 75, 626, 62, 627],\n",
              " [2, 12, 59, 17, 8, 221, 10, 159, 336, 628],\n",
              " [3, 39, 137, 35, 15, 8, 311, 127, 10, 629, 37, 630, 166],\n",
              " [3, 11, 155, 6, 318, 16, 40, 631],\n",
              " [2, 12, 66, 9, 121, 327, 138, 632, 10, 93, 633, 634],\n",
              " [3, 39, 42, 37, 52, 10, 635, 8, 636, 637],\n",
              " [3, 11, 331, 6, 638, 639, 19, 8, 332, 46, 640],\n",
              " [2, 14, 12, 148, 24, 70],\n",
              " [3, 11, 337, 31, 3, 240, 222, 1, 140, 3, 641, 17, 642],\n",
              " [3, 53, 14, 12, 120, 10, 106, 164],\n",
              " [3, 55, 6, 54, 94, 16, 40, 24, 99],\n",
              " [2, 12, 170, 19, 136, 17, 214, 45, 338, 99],\n",
              " [3, 11, 202, 643, 6, 644, 10, 75, 645, 12, 152, 339],\n",
              " [3, 95, 223, 3, 340, 45, 646, 647],\n",
              " [3, 53, 14, 12, 293, 10, 648, 70],\n",
              " [2, 12, 116, 26, 224, 15, 341, 10, 649, 107],\n",
              " [3, 11, 84, 8, 650, 10, 92, 8, 342, 651, 212],\n",
              " [2, 12, 343, 10, 116, 26, 14, 343, 10, 116, 652],\n",
              " [3, 53, 1, 81, 3, 653, 19, 4, 654, 107],\n",
              " [3, 11, 32, 141, 6, 344, 15, 8, 131, 219, 655],\n",
              " [2, 12, 120, 31, 21, 135, 68, 22, 19, 8, 46, 99],\n",
              " [3, 53, 14, 12, 656, 10, 657, 70],\n",
              " [3, 11, 32, 105, 100, 225, 10, 3, 30, 101, 71, 9, 658, 15, 75, 99],\n",
              " [2, 12, 170, 19, 139, 3, 659, 660],\n",
              " [3, 95, 223, 71, 152, 40, 3, 18, 9, 60, 10, 71, 328, 35, 3, 18, 661],\n",
              " [3, 53, 14, 12, 282, 10, 22, 662, 92, 1, 35, 663],\n",
              " [3, 11, 32, 345, 138, 139, 3, 47, 664, 339],\n",
              " [2, 12, 116, 26, 14, 130, 665, 7, 68, 67, 19, 8, 46, 107],\n",
              " [3, 53, 1, 81, 85, 346, 666, 117, 667, 107],\n",
              " [3, 11, 84, 8, 668, 10, 2, 347, 669],\n",
              " [2, 12, 165, 15, 136, 17, 13, 336, 670, 9, 60, 279, 295],\n",
              " [3, 53, 14, 12, 106, 10, 31, 26, 348, 70],\n",
              " [3, 11, 84, 8, 140, 10, 30, 101, 41, 9, 60, 70],\n",
              " [2, 12, 165, 15, 71, 8, 94, 7, 68, 107],\n",
              " [3, 11, 32, 141, 6, 344, 15, 8, 329, 10, 226, 13, 68, 159, 99],\n",
              " [3, 53, 349, 52, 30, 134, 671, 9, 304, 350],\n",
              " [2, 12, 170, 15, 71, 52, 351, 31, 70],\n",
              " [3, 11, 32, 105, 100, 225, 10, 2, 14, 148, 99],\n",
              " [2, 12, 120, 31, 15, 135, 68, 22, 164],\n",
              " [3, 53, 224, 15, 150, 85, 672],\n",
              " [3, 11, 32, 141, 6, 56, 352, 10, 8, 56, 7, 353, 673],\n",
              " [2, 12, 116, 26, 1, 341, 19, 8, 46, 276],\n",
              " [3, 11, 340, 6, 334, 3, 335, 12, 220, 17, 674],\n",
              " [2, 12, 675, 21, 1, 81, 52, 351, 31, 70],\n",
              " [3, 53, 14, 130, 2, 13, 93, 676, 70],\n",
              " [3, 11, 32, 345, 43, 8, 354, 140, 677],\n",
              " [2, 12, 106, 15, 135, 22, 8, 302, 212],\n",
              " [3, 53, 224, 15, 678, 10, 679, 85, 350],\n",
              " [3, 11, 55, 6, 680, 31, 15, 6, 681, 219, 99],\n",
              " [2, 12, 170, 15, 136, 17, 214, 6, 338, 70],\n",
              " [3, 53, 14, 130, 2, 213, 19, 6, 682, 107],\n",
              " [3, 11, 32, 141, 73, 683, 15, 6, 163, 684, 10, 226, 13, 68, 159, 70],\n",
              " [2, 12, 165, 15, 8, 685, 26, 686, 99],\n",
              " [3, 53, 14, 130, 2, 13, 19, 348, 26, 8, 46, 70],\n",
              " [3, 11, 32, 105, 100, 225, 21, 8, 221, 687],\n",
              " [2, 12, 120, 31, 21, 8, 688, 689, 690],\n",
              " [3, 53, 349, 52, 30, 134, 691, 692, 10, 3, 18, 9, 693, 694, 107],\n",
              " [3, 11, 32, 6, 695, 10, 8, 696, 7, 69, 697, 698],\n",
              " [2, 12, 167, 9, 121, 68, 9, 699, 355, 700],\n",
              " [3, 55, 1, 131, 701, 17, 702, 24, 16, 4, 51, 703, 356, 704, 357, 705],\n",
              " [3, 11, 218, 312, 73, 62, 57, 45, 3, 706, 145, 707],\n",
              " [2, 12, 66, 9, 121, 708, 19, 8, 354, 227, 15, 6, 86, 26, 1, 709, 710],\n",
              " [3, 11, 169, 6, 711, 278, 19, 712, 713, 714],\n",
              " [2, 59, 17, 8, 37, 56, 45, 715, 716, 717, 718, 719, 720],\n",
              " [3, 39, 8, 37, 721, 45, 3, 32, 22, 722, 17, 723, 724, 725],\n",
              " [3, 11, 265, 6, 358, 9, 726, 10, 2, 12, 167, 727],\n",
              " [2, 12, 59, 17, 8, 221, 10, 728, 729, 203, 84, 730, 731, 732],\n",
              " [3, 11, 218, 6, 733, 45, 2, 47, 216, 26, 734],\n",
              " [3, 39, 8, 37, 140, 10, 1, 85, 3, 40, 15, 735],\n",
              " [3, 11, 32, 6, 736, 43, 8, 737, 738, 117, 31, 22, 6, 325, 739],\n",
              " [2, 59, 17, 8, 168, 740, 10, 1, 133, 741, 742, 743, 744],\n",
              " [3,\n",
              "  11,\n",
              "  55,\n",
              "  1,\n",
              "  131,\n",
              "  745,\n",
              "  26,\n",
              "  266,\n",
              "  16,\n",
              "  4,\n",
              "  37,\n",
              "  746,\n",
              "  19,\n",
              "  747,\n",
              "  748,\n",
              "  356,\n",
              "  749,\n",
              "  357,\n",
              "  750],\n",
              " [3, 142, 9, 171, 751, 752, 17, 8, 753, 24, 754],\n",
              " [114, 115, 755, 117, 1, 756, 9, 1, 757, 115, 758, 759, 760],\n",
              " [3, 18, 6, 761, 762, 355, 16, 763, 764],\n",
              " [3, 142, 9, 300, 8, 765, 359, 3, 766, 17, 40, 767],\n",
              " [2, 68, 9, 1, 768, 264, 308, 40, 9, 171, 105, 769, 10, 770, 771],\n",
              " [2, 323, 22, 6, 321, 15, 6, 772, 26, 161, 172, 773],\n",
              " [2, 160, 6, 774, 43, 40, 9, 775, 8, 776, 777],\n",
              " [3, 142, 9, 179, 8, 227, 359, 8, 778, 260, 9, 324, 4, 303, 779],\n",
              " [2, 248, 6, 38, 10, 780, 781, 67, 69, 782],\n",
              " [3, 142, 9, 273, 8, 783, 64, 9, 784, 8, 785, 786],\n",
              " [2, 787, 17, 8, 788, 789, 161, 172, 790],\n",
              " [2, 360, 6, 791, 358, 17, 4, 792, 15, 8, 118, 793],\n",
              " [2, 794, 1, 178, 17, 795, 22, 71, 9, 796, 8, 227, 797],\n",
              " [2, 156, 798, 10, 799, 8, 800, 67, 69, 801],\n",
              " [3, 142, 9, 171, 37, 802, 17, 40, 8, 199, 319, 346, 803, 31, 804],\n",
              " [3, 11, 32, 6, 361, 228, 17, 362, 19, 1, 805, 363, 806],\n",
              " [8, 58, 807, 4, 808, 7, 809, 810, 811, 812, 3, 30, 101, 813, 814],\n",
              " [3, 263, 6, 37, 51, 10, 32, 34, 815, 69, 2, 213, 19, 816, 817],\n",
              " [3, 95, 223, 8, 818, 11, 202, 113, 819, 71, 333, 3, 820, 9, 821, 45, 822],\n",
              " [3, 18, 9, 40, 22, 823, 4, 172, 10, 3, 5, 360, 9, 134, 9, 6, 123, 824],\n",
              " [8, 178, 257, 322, 148, 92, 94, 10, 3, 95, 222, 825, 40, 826, 827],\n",
              " [3, 84, 8, 828, 829, 10, 139, 11, 830, 831, 22, 75, 832],\n",
              " [3, 833, 8, 834, 10, 55, 9, 171, 6, 37, 228, 17, 361, 835],\n",
              " [3, 32, 6, 100, 836, 10, 69, 3, 18, 9, 277, 6, 837, 92, 172, 838],\n",
              " [3,\n",
              "  32,\n",
              "  6,\n",
              "  362,\n",
              "  228,\n",
              "  839,\n",
              "  3,\n",
              "  5,\n",
              "  16,\n",
              "  1,\n",
              "  840,\n",
              "  841,\n",
              "  842,\n",
              "  843,\n",
              "  3,\n",
              "  844,\n",
              "  19,\n",
              "  1,\n",
              "  845,\n",
              "  363,\n",
              "  846],\n",
              " [3, 18, 9, 847, 8, 111, 848, 849, 3, 95, 222, 35, 850, 40, 851],\n",
              " [8, 852, 853, 10, 3, 84, 92, 8, 342, 854, 855],\n",
              " [3, 32, 141, 6, 56, 352, 10, 8, 56, 7, 353, 856],\n",
              " [3, 18, 6, 857, 10, 95, 858, 859, 226, 47, 220, 9, 860, 861],\n",
              " [3, 11, 337, 31, 8, 862, 7, 863, 139, 37, 3, 144, 12, 347, 864]]"
            ]
          },
          "execution_count": 29,
          "metadata": {},
          "output_type": "execute_result"
        }
      ],
      "source": [
        "sequences=tokenizer.texts_to_sequences(sentence)\n",
        "sequences"
      ]
    },
    {
      "cell_type": "code",
      "execution_count": null,
      "metadata": {
        "colab": {
          "base_uri": "https://localhost:8080/"
        },
        "id": "4MZqDwE7lzzS",
        "outputId": "84b5ad42-1fc6-4154-ea30-a98ab0b6b737"
      },
      "outputs": [
        {
          "data": {
            "text/plain": [
              "array([[  3,  47, 143, ...,   0,   0,   0],\n",
              "       [  1,  34,   5, ...,   0,   0,   0],\n",
              "       [  2,  13,  20, ...,   0,   0,   0],\n",
              "       ...,\n",
              "       [  3,  32, 141, ...,   0,   0,   0],\n",
              "       [  3,  18,   6, ...,   0,   0,   0],\n",
              "       [  3,  11, 337, ...,   0,   0,   0]], dtype=int32)"
            ]
          },
          "execution_count": 30,
          "metadata": {},
          "output_type": "execute_result"
        }
      ],
      "source": [
        "from keras.utils import pad_sequences\n",
        "X=pad_sequences(sequences,padding=\"post\",maxlen=75)\n",
        "X"
      ]
    },
    {
      "cell_type": "code",
      "execution_count": null,
      "metadata": {
        "colab": {
          "base_uri": "https://localhost:8080/"
        },
        "id": "vGOTj1s-l3AB",
        "outputId": "6f73e540-2f8d-45e6-8372-422e58288d53"
      },
      "outputs": [
        {
          "name": "stdout",
          "output_type": "stream",
          "text": [
            "0      1\n",
            "1     -1\n",
            "2      0\n",
            "3      1\n",
            "4     -1\n",
            "      ..\n",
            "579   -1\n",
            "580   -1\n",
            "581   -1\n",
            "582   -1\n",
            "583   -1\n",
            "Name: sentiment, Length: 584, dtype: int64\n"
          ]
        }
      ],
      "source": [
        "df[\"sentiment\"] = df[\"sentiment\"].replace(\"positive\", 1)\n",
        "df[\"sentiment\"] = df[\"sentiment\"].replace(\"neutral\", 0)\n",
        "df[\"sentiment\"] = df[\"sentiment\"].replace(\"negative\", -1)\n",
        "\n",
        "print(df[\"sentiment\"])"
      ]
    },
    {
      "cell_type": "code",
      "execution_count": null,
      "metadata": {
        "colab": {
          "base_uri": "https://localhost:8080/"
        },
        "id": "ejBMJWa1mB0f",
        "outputId": "c85862e4-c863-4487-8f75-60edc21a219d"
      },
      "outputs": [
        {
          "name": "stdout",
          "output_type": "stream",
          "text": [
            "     0    1    2    3    4    5    6    7    8    9   ...  65  66  67  68  69  \\\n",
            "0     3   47  143    1   38    0    0    0    0    0  ...   0   0   0   0   0   \n",
            "1     1   34    5   54    0    0    0    0    0    0  ...   0   0   0   0   0   \n",
            "2     2   13   20   71    3  144   21    4    0    0  ...   0   0   0   0   0   \n",
            "3     1   25    5   76    0    0    0    0    0    0  ...   0   0   0   0   0   \n",
            "4     3   55    6  100  173    0    0    0    0    0  ...   0   0   0   0   0   \n",
            "..   ..  ...  ...  ...  ...  ...  ...  ...  ...  ...  ...  ..  ..  ..  ..  ..   \n",
            "579   3   18    9  847    8  111  848  849    3   95  ...   0   0   0   0   0   \n",
            "580   8  852  853   10    3   84   92    8  342  854  ...   0   0   0   0   0   \n",
            "581   3   32  141    6   56  352   10    8   56    7  ...   0   0   0   0   0   \n",
            "582   3   18    6  857   10   95  858  859  226   47  ...   0   0   0   0   0   \n",
            "583   3   11  337   31    8  862    7  863  139   37  ...   0   0   0   0   0   \n",
            "\n",
            "     70  71  72  73  74  \n",
            "0     0   0   0   0   0  \n",
            "1     0   0   0   0   0  \n",
            "2     0   0   0   0   0  \n",
            "3     0   0   0   0   0  \n",
            "4     0   0   0   0   0  \n",
            "..   ..  ..  ..  ..  ..  \n",
            "579   0   0   0   0   0  \n",
            "580   0   0   0   0   0  \n",
            "581   0   0   0   0   0  \n",
            "582   0   0   0   0   0  \n",
            "583   0   0   0   0   0  \n",
            "\n",
            "[584 rows x 75 columns]\n",
            "(584, 75)\n"
          ]
        }
      ],
      "source": [
        "df1 = pd.DataFrame(X)\n",
        "print(df1)\n",
        "print(df1.shape)"
      ]
    },
    {
      "cell_type": "code",
      "execution_count": null,
      "metadata": {
        "colab": {
          "base_uri": "https://localhost:8080/"
        },
        "id": "ETWEOn4wmRzd",
        "outputId": "3e9c8eb3-9099-4ef8-81a8-1341800dd182"
      },
      "outputs": [
        {
          "name": "stdout",
          "output_type": "stream",
          "text": [
            "Model: \"sequential_4\"\n",
            "_________________________________________________________________\n",
            " Layer (type)                Output Shape              Param #   \n",
            "=================================================================\n",
            " embedding_4 (Embedding)     (None, 75, 2)             34        \n",
            "                                                                 \n",
            "=================================================================\n",
            "Total params: 34 (136.00 Byte)\n",
            "Trainable params: 34 (136.00 Byte)\n",
            "Non-trainable params: 0 (0.00 Byte)\n",
            "_________________________________________________________________\n"
          ]
        }
      ],
      "source": [
        "model = Sequential()\n",
        "model.add(Embedding(17,output_dim=2,input_length=75))\n",
        "\n",
        "model.summary()"
      ]
    },
    {
      "cell_type": "code",
      "execution_count": null,
      "metadata": {
        "id": "R68ghDfNmSAC"
      },
      "outputs": [],
      "source": [
        "model.compile('adam','accuracy')"
      ]
    },
    {
      "cell_type": "code",
      "execution_count": null,
      "metadata": {
        "colab": {
          "base_uri": "https://localhost:8080/"
        },
        "id": "ooYWO2NwoKoQ",
        "outputId": "e301f670-d764-4f7c-f83a-3f56e5c9a309"
      },
      "outputs": [
        {
          "name": "stdout",
          "output_type": "stream",
          "text": [
            "19/19 [==============================] - 0s 2ms/step\n",
            "[[[ 0.02423267  0.01029723]\n",
            "  [ 0.          0.        ]\n",
            "  [ 0.          0.        ]\n",
            "  ...\n",
            "  [ 0.02981604  0.01422397]\n",
            "  [ 0.02981604  0.01422397]\n",
            "  [ 0.02981604  0.01422397]]\n",
            "\n",
            " [[-0.00094838  0.00396047]\n",
            "  [ 0.          0.        ]\n",
            "  [-0.02944087 -0.001247  ]\n",
            "  ...\n",
            "  [ 0.02981604  0.01422397]\n",
            "  [ 0.02981604  0.01422397]\n",
            "  [ 0.02981604  0.01422397]]\n",
            "\n",
            " [[ 0.01896105  0.0050006 ]\n",
            "  [-0.01233085 -0.03436309]\n",
            "  [ 0.          0.        ]\n",
            "  ...\n",
            "  [ 0.02981604  0.01422397]\n",
            "  [ 0.02981604  0.01422397]\n",
            "  [ 0.02981604  0.01422397]]\n",
            "\n",
            " ...\n",
            "\n",
            " [[ 0.02423267  0.01029723]\n",
            "  [ 0.          0.        ]\n",
            "  [ 0.          0.        ]\n",
            "  ...\n",
            "  [ 0.02981604  0.01422397]\n",
            "  [ 0.02981604  0.01422397]\n",
            "  [ 0.02981604  0.01422397]]\n",
            "\n",
            " [[ 0.02423267  0.01029723]\n",
            "  [ 0.          0.        ]\n",
            "  [-0.00040543  0.01425394]\n",
            "  ...\n",
            "  [ 0.02981604  0.01422397]\n",
            "  [ 0.02981604  0.01422397]\n",
            "  [ 0.02981604  0.01422397]]\n",
            "\n",
            " [[ 0.02423267  0.01029723]\n",
            "  [-0.00694744 -0.02678831]\n",
            "  [ 0.          0.        ]\n",
            "  ...\n",
            "  [ 0.02981604  0.01422397]\n",
            "  [ 0.02981604  0.01422397]\n",
            "  [ 0.02981604  0.01422397]]]\n"
          ]
        }
      ],
      "source": [
        "pred = model.predict(X)\n",
        "print(pred)"
      ]
    },
    {
      "cell_type": "markdown",
      "metadata": {
        "id": "LfDuZ30hkfnK"
      },
      "source": [
        "### **Implementing Sentiment Analysis using SimpleRNN**\n",
        "\n",
        "\n",
        "---\n",
        "\n",
        "\n",
        "\n"
      ]
    },
    {
      "cell_type": "code",
      "execution_count": 1,
      "metadata": {
        "id": "yrM0IXVamPLn"
      },
      "outputs": [],
      "source": [
        "from keras.datasets import imdb\n",
        "from keras.preprocessing.text import Tokenizer\n",
        "from keras.utils import pad_sequences\n",
        "from keras import Sequential\n",
        "from keras.layers import Dense,SimpleRNN,Embedding,Flatten,LSTM, Dropout"
      ]
    },
    {
      "cell_type": "code",
      "execution_count": 2,
      "metadata": {
        "colab": {
          "base_uri": "https://localhost:8080/"
        },
        "id": "4aH4HVjcyq1f",
        "outputId": "62dd6ed5-83e5-4033-c6f1-c97516ed5905"
      },
      "outputs": [
        {
          "output_type": "stream",
          "name": "stdout",
          "text": [
            "Downloading data from https://storage.googleapis.com/tensorflow/tf-keras-datasets/imdb.npz\n",
            "17464789/17464789 [==============================] - 0s 0us/step\n"
          ]
        }
      ],
      "source": [
        "(X_train,y_train),(X_test,y_test) = imdb.load_data()"
      ]
    },
    {
      "cell_type": "code",
      "execution_count": 3,
      "metadata": {
        "id": "cu2UOZGUzAEF"
      },
      "outputs": [],
      "source": [
        "X_train = pad_sequences(X_train,padding='post',maxlen=50)\n",
        "X_test = pad_sequences(X_test,padding='post',maxlen=50)"
      ]
    },
    {
      "cell_type": "code",
      "execution_count": 4,
      "metadata": {
        "colab": {
          "base_uri": "https://localhost:8080/"
        },
        "id": "aO412Krkz7EO",
        "outputId": "64ed2c66-219a-4ec3-d705-7d8262dbc191"
      },
      "outputs": [
        {
          "output_type": "execute_result",
          "data": {
            "text/plain": [
              "(25000, 50)"
            ]
          },
          "metadata": {},
          "execution_count": 4
        }
      ],
      "source": [
        "X_train.shape"
      ]
    },
    {
      "cell_type": "code",
      "source": [
        "print(X_train)"
      ],
      "metadata": {
        "id": "dnaL7RkJ9PYS"
      },
      "execution_count": null,
      "outputs": []
    },
    {
      "cell_type": "code",
      "source": [
        "print(y_train)"
      ],
      "metadata": {
        "id": "UP4BLu3Q9SIw"
      },
      "execution_count": null,
      "outputs": []
    },
    {
      "cell_type": "code",
      "execution_count": 30,
      "metadata": {
        "colab": {
          "base_uri": "https://localhost:8080/"
        },
        "id": "WWXhm8vP_DO-",
        "outputId": "24a7c271-a093-42c0-94a4-3525a441dc33"
      },
      "outputs": [
        {
          "output_type": "stream",
          "name": "stdout",
          "text": [
            "Model: \"sequential_12\"\n",
            "_________________________________________________________________\n",
            " Layer (type)                Output Shape              Param #   \n",
            "=================================================================\n",
            " embedding_12 (Embedding)    (None, 50, 2)             10000     \n",
            "                                                                 \n",
            " dropout_27 (Dropout)        (None, 50, 2)             0         \n",
            "                                                                 \n",
            " simple_rnn_18 (SimpleRNN)   (None, 50, 32)            1120      \n",
            "                                                                 \n",
            " dropout_28 (Dropout)        (None, 50, 32)            0         \n",
            "                                                                 \n",
            " simple_rnn_19 (SimpleRNN)   (None, 16)                784       \n",
            "                                                                 \n",
            " dense_11 (Dense)            (None, 1)                 17        \n",
            "                                                                 \n",
            "=================================================================\n",
            "Total params: 11921 (46.57 KB)\n",
            "Trainable params: 11921 (46.57 KB)\n",
            "Non-trainable params: 0 (0.00 Byte)\n",
            "_________________________________________________________________\n"
          ]
        }
      ],
      "source": [
        "model = Sequential()\n",
        "model.add(Embedding(5000, 2, input_length=50))\n",
        "model.add(Dropout(0.4))\n",
        "model.add(SimpleRNN(32, return_sequences=True))\n",
        "model.add(Dropout(0.4))\n",
        "model.add(SimpleRNN(16, return_sequences=False))\n",
        "model.add(Dense(1, activation='sigmoid'))\n",
        "model.summary()"
      ]
    },
    {
      "cell_type": "code",
      "execution_count": 31,
      "metadata": {
        "colab": {
          "base_uri": "https://localhost:8080/"
        },
        "id": "AGCAZ7Rm_fqH",
        "outputId": "b828c48d-1691-4a2e-ad18-44e42787376e"
      },
      "outputs": [
        {
          "output_type": "stream",
          "name": "stdout",
          "text": [
            "Epoch 1/10\n",
            "782/782 [==============================] - 105s 131ms/step - loss: 0.6944 - acc: 0.5057 - val_loss: 0.6898 - val_acc: 0.5311\n",
            "Epoch 2/10\n",
            "782/782 [==============================] - 91s 117ms/step - loss: 0.5890 - acc: 0.6742 - val_loss: 0.4951 - val_acc: 0.7772\n",
            "Epoch 3/10\n",
            "782/782 [==============================] - 88s 113ms/step - loss: 0.4702 - acc: 0.7816 - val_loss: 0.4259 - val_acc: 0.8072\n",
            "Epoch 4/10\n",
            "782/782 [==============================] - 86s 111ms/step - loss: 0.4456 - acc: 0.7979 - val_loss: 0.4290 - val_acc: 0.8060\n",
            "Epoch 5/10\n",
            "782/782 [==============================] - 88s 112ms/step - loss: 0.4153 - acc: 0.8154 - val_loss: 0.4173 - val_acc: 0.8134\n",
            "Epoch 6/10\n",
            "782/782 [==============================] - 87s 111ms/step - loss: 0.4458 - acc: 0.7921 - val_loss: 0.4160 - val_acc: 0.8132\n",
            "Epoch 7/10\n",
            "782/782 [==============================] - 86s 110ms/step - loss: 0.4010 - acc: 0.8265 - val_loss: 0.4087 - val_acc: 0.8158\n",
            "Epoch 8/10\n",
            "782/782 [==============================] - 89s 114ms/step - loss: 0.3896 - acc: 0.8296 - val_loss: 0.4156 - val_acc: 0.8147\n",
            "Epoch 9/10\n",
            "782/782 [==============================] - 89s 114ms/step - loss: 0.3873 - acc: 0.8284 - val_loss: 0.4240 - val_acc: 0.8068\n",
            "Epoch 10/10\n",
            "782/782 [==============================] - 91s 116ms/step - loss: 0.3860 - acc: 0.8298 - val_loss: 0.4450 - val_acc: 0.7938\n"
          ]
        }
      ],
      "source": [
        "model.compile(optimizer='adam', loss='binary_crossentropy', metrics=['acc'])\n",
        "history = model.fit(X_train, y_train,epochs=10,validation_data=(X_test,y_test))"
      ]
    },
    {
      "cell_type": "code",
      "execution_count": 32,
      "metadata": {
        "colab": {
          "base_uri": "https://localhost:8080/",
          "height": 472
        },
        "id": "jAQETwiZikEY",
        "outputId": "9801f59c-2173-47ac-ef2b-6315201f5d76"
      },
      "outputs": [
        {
          "output_type": "display_data",
          "data": {
            "text/plain": [
              "<Figure size 640x480 with 1 Axes>"
            ],
            "image/png": "[encoded data removed]"
          },
          "metadata": {}
        }
      ],
      "source": [
        "import matplotlib.pyplot as plt\n",
        "\n",
        "plt.plot(history.history['acc'])\n",
        "plt.plot(history.history['val_acc'])\n",
        "plt.title('Model Accuracy')\n",
        "plt.xlabel('Epochs')\n",
        "plt.ylabel('Accuracy')\n",
        "plt.legend(['Train', 'Validation'], loc='upper left')\n",
        "plt.show()\n"
      ]
    },
    {
      "cell_type": "markdown",
      "metadata": {
        "id": "DGXaU2C0s-Gt"
      },
      "source": [
        "### **Now implementing sentiment analysis Using LSTM layers**\n",
        "\n",
        "---\n",
        "\n"
      ]
    },
    {
      "cell_type": "code",
      "execution_count": 27,
      "metadata": {
        "colab": {
          "base_uri": "https://localhost:8080/"
        },
        "id": "PaS0eh-8s9ZA",
        "outputId": "0c5dac7d-8627-4e99-c825-5b5e8e90863d"
      },
      "outputs": [
        {
          "output_type": "stream",
          "name": "stdout",
          "text": [
            "Model: \"sequential_11\"\n",
            "_________________________________________________________________\n",
            " Layer (type)                Output Shape              Param #   \n",
            "=================================================================\n",
            " embedding_11 (Embedding)    (None, 50, 2)             20000     \n",
            "                                                                 \n",
            " lstm_6 (LSTM)               (None, 50, 128)           67072     \n",
            "                                                                 \n",
            " dropout_24 (Dropout)        (None, 50, 128)           0         \n",
            "                                                                 \n",
            " lstm_7 (LSTM)               (None, 50, 64)            49408     \n",
            "                                                                 \n",
            " dropout_25 (Dropout)        (None, 50, 64)            0         \n",
            "                                                                 \n",
            " lstm_8 (LSTM)               (None, 16)                5184      \n",
            "                                                                 \n",
            " dropout_26 (Dropout)        (None, 16)                0         \n",
            "                                                                 \n",
            " dense_10 (Dense)            (None, 1)                 17        \n",
            "                                                                 \n",
            "=================================================================\n",
            "Total params: 141681 (553.44 KB)\n",
            "Trainable params: 141681 (553.44 KB)\n",
            "Non-trainable params: 0 (0.00 Byte)\n",
            "_________________________________________________________________\n"
          ]
        }
      ],
      "source": [
        "model1 = Sequential()\n",
        "model1.add(Embedding(10000, 2,input_length=50))\n",
        "model1.add(LSTM(128,return_sequences=True))\n",
        "model1.add(Dropout(0.4))\n",
        "model1.add(LSTM(64,return_sequences=True))\n",
        "model1.add(Dropout(0.4))\n",
        "model1.add(LSTM(16))\n",
        "model1.add(Dropout(0.4))\n",
        "model1.add(Dense(1, activation='sigmoid'))\n",
        "model1.summary()"
      ]
    },
    {
      "cell_type": "code",
      "execution_count": 28,
      "metadata": {
        "colab": {
          "base_uri": "https://localhost:8080/"
        },
        "id": "u3UIPcXhu8cv",
        "outputId": "112a68c9-357b-427a-97bc-630f21d63583"
      },
      "outputs": [
        {
          "output_type": "stream",
          "name": "stdout",
          "text": [
            "Epoch 1/10\n",
            "782/782 [==============================] - 40s 44ms/step - loss: 0.5310 - acc: 0.7186 - val_loss: 0.4166 - val_acc: 0.8089\n",
            "Epoch 2/10\n",
            "782/782 [==============================] - 15s 19ms/step - loss: 0.3671 - acc: 0.8448 - val_loss: 0.4141 - val_acc: 0.8083\n",
            "Epoch 3/10\n",
            "782/782 [==============================] - 15s 19ms/step - loss: 0.3145 - acc: 0.8751 - val_loss: 0.4243 - val_acc: 0.8105\n",
            "Epoch 4/10\n",
            "782/782 [==============================] - 13s 17ms/step - loss: 0.2832 - acc: 0.8899 - val_loss: 0.4406 - val_acc: 0.8068\n",
            "Epoch 5/10\n",
            "782/782 [==============================] - 14s 18ms/step - loss: 0.2636 - acc: 0.8982 - val_loss: 0.4431 - val_acc: 0.8000\n",
            "Epoch 6/10\n",
            "782/782 [==============================] - 16s 21ms/step - loss: 0.2395 - acc: 0.9110 - val_loss: 0.5390 - val_acc: 0.7980\n",
            "Epoch 7/10\n",
            "782/782 [==============================] - 14s 18ms/step - loss: 0.2275 - acc: 0.9176 - val_loss: 0.5738 - val_acc: 0.7892\n",
            "Epoch 8/10\n",
            "782/782 [==============================] - 15s 19ms/step - loss: 0.2131 - acc: 0.9230 - val_loss: 0.5552 - val_acc: 0.7864\n",
            "Epoch 9/10\n",
            "782/782 [==============================] - 14s 18ms/step - loss: 0.2019 - acc: 0.9299 - val_loss: 0.5412 - val_acc: 0.7850\n",
            "Epoch 10/10\n",
            "782/782 [==============================] - 13s 17ms/step - loss: 0.1915 - acc: 0.9335 - val_loss: 0.6176 - val_acc: 0.7789\n"
          ]
        }
      ],
      "source": [
        "model1.compile(optimizer='adam', loss='binary_crossentropy', metrics=['acc'])\n",
        "history = model1.fit(X_train, y_train,epochs=10,validation_data=(X_test,y_test))"
      ]
    },
    {
      "cell_type": "code",
      "execution_count": 29,
      "metadata": {
        "colab": {
          "base_uri": "https://localhost:8080/",
          "height": 472
        },
        "id": "TeEQlkl8vEm4",
        "outputId": "477b3513-2f28-483f-c81d-256a7952f556"
      },
      "outputs": [
        {
          "output_type": "display_data",
          "data": {
            "text/plain": [
              "<Figure size 640x480 with 1 Axes>"
            ],
            "image/png": "[encoded data removed]"
          },
          "metadata": {}
        }
      ],
      "source": [
        "import matplotlib.pyplot as plt\n",
        "\n",
        "plt.plot(history.history['acc'])\n",
        "plt.plot(history.history['val_acc'])\n",
        "plt.title('Model Accuracy')\n",
        "plt.xlabel('Epochs')\n",
        "plt.ylabel('Accuracy')\n",
        "plt.legend(['Train', 'Validation'], loc='upper left')\n",
        "plt.show()"
      ]
    },
    {
      "cell_type": "markdown",
      "metadata": {
        "id": "BfaC3NUepVK7"
      },
      "source": [
        "### **Thank You**"
      ]
    }
  ],
  "metadata": {
    "accelerator": "GPU",
    "colab": {
      "provenance": []
    },
    "gpuClass": "standard",
    "kernelspec": {
      "display_name": "Python 3 (ipykernel)",
      "language": "python",
      "name": "python3"
    },
    "language_info": {
      "codemirror_mode": {
        "name": "ipython",
        "version": 3
      },
      "file_extension": ".py",
      "mimetype": "text/x-python",
      "name": "python",
      "nbconvert_exporter": "python",
      "pygments_lexer": "ipython3",
      "version": "3.11.4"
    }
  },
  "nbformat": 4,
  "nbformat_minor": 0
}